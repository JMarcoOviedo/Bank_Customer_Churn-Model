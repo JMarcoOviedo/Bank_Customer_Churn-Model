{
 "cells": [
  {
   "cell_type": "markdown",
   "id": "c83e021f",
   "metadata": {},
   "source": [
    " # Predicting the Probaility of a Customer Terminating Service at a Bank\n",
    " \n",
    " ### Introduciton\n",
    " \n",
    "A bank has noticed an increase in its churn rates. A sample of 10,000 customers was taken with the information available to the bank. In this report, I will construct a logistic regression model using an Artificial Neural Network to find the probability of a customer terminating their service. This can be used to find customers with a churn probability greater than 50% and inform the bank to offer incentives for the customer to retain them.\n"
   ]
  },
  {
   "cell_type": "markdown",
   "id": "e7eb83ab",
   "metadata": {},
   "source": [
    "## Data set and Visual Analysis"
   ]
  },
  {
   "cell_type": "code",
   "execution_count": 22,
   "id": "04f636df",
   "metadata": {},
   "outputs": [],
   "source": [
    "'''Importing the necessary packages'''\n",
    "import pandas as pd\n",
    "import numpy as np \n",
    "import matplotlib.pyplot as plt\n",
    "import seaborn as sns\n",
    "import tensorflow as tf"
   ]
  },
  {
   "cell_type": "code",
   "execution_count": 3,
   "id": "dfcf052e",
   "metadata": {},
   "outputs": [
    {
     "data": {
      "text/html": [
       "<div>\n",
       "<style scoped>\n",
       "    .dataframe tbody tr th:only-of-type {\n",
       "        vertical-align: middle;\n",
       "    }\n",
       "\n",
       "    .dataframe tbody tr th {\n",
       "        vertical-align: top;\n",
       "    }\n",
       "\n",
       "    .dataframe thead th {\n",
       "        text-align: right;\n",
       "    }\n",
       "</style>\n",
       "<table border=\"1\" class=\"dataframe\">\n",
       "  <thead>\n",
       "    <tr style=\"text-align: right;\">\n",
       "      <th></th>\n",
       "      <th>RowNumber</th>\n",
       "      <th>CustomerId</th>\n",
       "      <th>Surname</th>\n",
       "      <th>CreditScore</th>\n",
       "      <th>Geography</th>\n",
       "      <th>Gender</th>\n",
       "      <th>Age</th>\n",
       "      <th>Tenure</th>\n",
       "      <th>Balance</th>\n",
       "      <th>NumOfProducts</th>\n",
       "      <th>HasCrCard</th>\n",
       "      <th>IsActiveMember</th>\n",
       "      <th>EstimatedSalary</th>\n",
       "      <th>Exited</th>\n",
       "    </tr>\n",
       "  </thead>\n",
       "  <tbody>\n",
       "    <tr>\n",
       "      <th>0</th>\n",
       "      <td>1</td>\n",
       "      <td>15634602</td>\n",
       "      <td>Hargrave</td>\n",
       "      <td>619</td>\n",
       "      <td>France</td>\n",
       "      <td>Female</td>\n",
       "      <td>42</td>\n",
       "      <td>2</td>\n",
       "      <td>0.00</td>\n",
       "      <td>1</td>\n",
       "      <td>1</td>\n",
       "      <td>1</td>\n",
       "      <td>101348.88</td>\n",
       "      <td>1</td>\n",
       "    </tr>\n",
       "    <tr>\n",
       "      <th>1</th>\n",
       "      <td>2</td>\n",
       "      <td>15647311</td>\n",
       "      <td>Hill</td>\n",
       "      <td>608</td>\n",
       "      <td>Spain</td>\n",
       "      <td>Female</td>\n",
       "      <td>41</td>\n",
       "      <td>1</td>\n",
       "      <td>83807.86</td>\n",
       "      <td>1</td>\n",
       "      <td>0</td>\n",
       "      <td>1</td>\n",
       "      <td>112542.58</td>\n",
       "      <td>0</td>\n",
       "    </tr>\n",
       "    <tr>\n",
       "      <th>2</th>\n",
       "      <td>3</td>\n",
       "      <td>15619304</td>\n",
       "      <td>Onio</td>\n",
       "      <td>502</td>\n",
       "      <td>France</td>\n",
       "      <td>Female</td>\n",
       "      <td>42</td>\n",
       "      <td>8</td>\n",
       "      <td>159660.80</td>\n",
       "      <td>3</td>\n",
       "      <td>1</td>\n",
       "      <td>0</td>\n",
       "      <td>113931.57</td>\n",
       "      <td>1</td>\n",
       "    </tr>\n",
       "    <tr>\n",
       "      <th>3</th>\n",
       "      <td>4</td>\n",
       "      <td>15701354</td>\n",
       "      <td>Boni</td>\n",
       "      <td>699</td>\n",
       "      <td>France</td>\n",
       "      <td>Female</td>\n",
       "      <td>39</td>\n",
       "      <td>1</td>\n",
       "      <td>0.00</td>\n",
       "      <td>2</td>\n",
       "      <td>0</td>\n",
       "      <td>0</td>\n",
       "      <td>93826.63</td>\n",
       "      <td>0</td>\n",
       "    </tr>\n",
       "    <tr>\n",
       "      <th>4</th>\n",
       "      <td>5</td>\n",
       "      <td>15737888</td>\n",
       "      <td>Mitchell</td>\n",
       "      <td>850</td>\n",
       "      <td>Spain</td>\n",
       "      <td>Female</td>\n",
       "      <td>43</td>\n",
       "      <td>2</td>\n",
       "      <td>125510.82</td>\n",
       "      <td>1</td>\n",
       "      <td>1</td>\n",
       "      <td>1</td>\n",
       "      <td>79084.10</td>\n",
       "      <td>0</td>\n",
       "    </tr>\n",
       "  </tbody>\n",
       "</table>\n",
       "</div>"
      ],
      "text/plain": [
       "   RowNumber  CustomerId   Surname  CreditScore Geography  Gender  Age  \\\n",
       "0          1    15634602  Hargrave          619    France  Female   42   \n",
       "1          2    15647311      Hill          608     Spain  Female   41   \n",
       "2          3    15619304      Onio          502    France  Female   42   \n",
       "3          4    15701354      Boni          699    France  Female   39   \n",
       "4          5    15737888  Mitchell          850     Spain  Female   43   \n",
       "\n",
       "   Tenure    Balance  NumOfProducts  HasCrCard  IsActiveMember  \\\n",
       "0       2       0.00              1          1               1   \n",
       "1       1   83807.86              1          0               1   \n",
       "2       8  159660.80              3          1               0   \n",
       "3       1       0.00              2          0               0   \n",
       "4       2  125510.82              1          1               1   \n",
       "\n",
       "   EstimatedSalary  Exited  \n",
       "0        101348.88       1  \n",
       "1        112542.58       0  \n",
       "2        113931.57       1  \n",
       "3         93826.63       0  \n",
       "4         79084.10       0  "
      ]
     },
     "execution_count": 3,
     "metadata": {},
     "output_type": "execute_result"
    }
   ],
   "source": [
    "df = pd.read_csv(r\"C:\\Users\\ovied\\OneDrive\\Desktop\\Data Sets\\Churn_Modelling.csv\")\n",
    "df.head()"
   ]
  },
  {
   "cell_type": "markdown",
   "id": "e3b0cbe2",
   "metadata": {},
   "source": [
    "Here we can see that the data set has 14 columns but for our ANN model we will not include the columns 'RowNumber',\t'CustomerId', 'Surname' because they will not provide any useful information to our prediction model.\n"
   ]
  },
  {
   "cell_type": "code",
   "execution_count": 19,
   "id": "79845bbc",
   "metadata": {},
   "outputs": [
    {
     "data": {
      "image/png": "[encoded data removed]",
      "text/plain": [
       "<Figure size 640x480 with 1 Axes>"
      ]
     },
     "metadata": {},
     "output_type": "display_data"
    }
   ],
   "source": [
    "my_data = [df.Exited[df['Exited']==1].count(), df.Exited[df['Exited']==0].count()]\n",
    "my_labels = 'Exited', 'Retained'\n",
    "plt.pie(my_data, labels=my_labels, autopct='%1.1f%%')\n",
    "plt.title('Percent of Customers Retained and Exited')\n",
    "plt.axis('equal')\n",
    "plt.show()"
   ]
  },
  {
   "cell_type": "code",
   "execution_count": 31,
   "id": "b46b7796",
   "metadata": {},
   "outputs": [
    {
     "data": {
      "text/plain": [
       "[Text(0.5, 1.0, 'Customer Churn by Gender')]"
      ]
     },
     "execution_count": 31,
     "metadata": {},
     "output_type": "execute_result"
    },
    {
     "data": {
      "image/png": "[encoded data removed]",
      "text/plain": [
       "<Figure size 640x480 with 1 Axes>"
      ]
     },
     "metadata": {},
     "output_type": "display_data"
    }
   ],
   "source": [
    "sns.countplot(data=df, x=\"Gender\", hue=\"Exited\").set(title='Customer Churn by Gender')"
   ]
  },
  {
   "cell_type": "code",
   "execution_count": 32,
   "id": "aa8a565f",
   "metadata": {},
   "outputs": [
    {
     "data": {
      "text/plain": [
       "[Text(0.5, 1.0, 'Customer Churn by Number of Products')]"
      ]
     },
     "execution_count": 32,
     "metadata": {},
     "output_type": "execute_result"
    },
    {
     "data": {
      "image/png": "[encoded data removed]",
      "text/plain": [
       "<Figure size 640x480 with 1 Axes>"
      ]
     },
     "metadata": {},
     "output_type": "display_data"
    }
   ],
   "source": [
    "sns.countplot(data=df, x=\"NumOfProducts\", hue=\"Exited\").set(title='Customer Churn by Number of Products')"
   ]
  },
  {
   "cell_type": "markdown",
   "id": "fbf40efb",
   "metadata": {},
   "source": [
    "Looking at the pie chart, we can see that the bank has retained 79% of its customers while only 20.4% have discontinued their service. Also, looking at the count plots, we can see that the proportion of females discontinuing their service compared to males is greater. Lastly, customers with only one product from the bank have the highest proportion of discontinuing service, while customers with two or more products have a smaller proportion."
   ]
  },
  {
   "cell_type": "markdown",
   "id": "1da4cf05",
   "metadata": {},
   "source": [
    "## Processing and Encoding the Data"
   ]
  },
  {
   "cell_type": "markdown",
   "id": "1e4de21f",
   "metadata": {},
   "source": [
    "Since the model will not be using the first 3 columns the x values of the data will be obtained by simply selecting the columns after in the dataframe. "
   ]
  },
  {
   "cell_type": "code",
   "execution_count": 40,
   "id": "09cfc4ed",
   "metadata": {},
   "outputs": [
    {
     "name": "stdout",
     "output_type": "stream",
     "text": [
      "[619 'France' 'Female' 42 2 0.0 1 1 1 101348.88]\n"
     ]
    }
   ],
   "source": [
    "x = df.iloc[:,3:-1].values  #takes all columns after the credit score expect for the exited val\n",
    "y = df.iloc[:,-1].values  #takes the last column which is the Exited value\n",
    "print(x[0])"
   ]
  },
  {
   "cell_type": "code",
   "execution_count": 41,
   "id": "463cc1c5",
   "metadata": {},
   "outputs": [
    {
     "name": "stdout",
     "output_type": "stream",
     "text": [
      "[619 'France' 0 42 2 0.0 1 1 1 101348.88]\n"
     ]
    }
   ],
   "source": [
    "from sklearn.preprocessing import LabelEncoder  \n",
    "le = LabelEncoder()\n",
    "x[:,2] = le.fit_transform(x[:,2])  #Changes the gender values to binary \n",
    "print(x[0])"
   ]
  },
  {
   "cell_type": "code",
   "execution_count": 42,
   "id": "e5ea9baf",
   "metadata": {},
   "outputs": [],
   "source": [
    "'''Transforms the multple geography categorical values into binary values'''\n",
    "\n",
    "from sklearn.compose import ColumnTransformer\n",
    "from sklearn.preprocessing import OneHotEncoder\n",
    "ct = ColumnTransformer(transformers=[('encoder', OneHotEncoder(), [1])], remainder='passthrough')\n",
    "\n",
    "x = np.array(ct.fit_transform(x))"
   ]
  },
  {
   "cell_type": "code",
   "execution_count": 43,
   "id": "c75731b0",
   "metadata": {},
   "outputs": [
    {
     "name": "stdout",
     "output_type": "stream",
     "text": [
      "[[1.0 0.0 0.0 619 0 42 2 0.0 1 1 1 101348.88]\n",
      " [0.0 0.0 1.0 608 0 41 1 83807.86 1 0 1 112542.58]\n",
      " [1.0 0.0 0.0 502 0 42 8 159660.8 3 1 0 113931.57]\n",
      " [1.0 0.0 0.0 699 0 39 1 0.0 2 0 0 93826.63]\n",
      " [0.0 0.0 1.0 850 0 43 2 125510.82 1 1 1 79084.1]\n",
      " [0.0 0.0 1.0 645 1 44 8 113755.78 2 1 0 149756.71]\n",
      " [1.0 0.0 0.0 822 1 50 7 0.0 2 1 1 10062.8]\n",
      " [0.0 1.0 0.0 376 0 29 4 115046.74 4 1 0 119346.88]\n",
      " [1.0 0.0 0.0 501 1 44 4 142051.07 2 0 1 74940.5]\n",
      " [1.0 0.0 0.0 684 1 27 2 134603.88 1 1 1 71725.73]]\n"
     ]
    }
   ],
   "source": [
    "print(x[:10])"
   ]
  },
  {
   "cell_type": "code",
   "execution_count": 44,
   "id": "1505e722",
   "metadata": {},
   "outputs": [],
   "source": [
    "from sklearn.model_selection import train_test_split\n",
    "X_train, X_test, y_train, y_test = train_test_split(x, y, test_size=0.2)  #splits the data to 80% in training and 20% in testing"
   ]
  },
  {
   "cell_type": "code",
   "execution_count": 45,
   "id": "9e5b76ff",
   "metadata": {},
   "outputs": [],
   "source": [
    "from sklearn.preprocessing import StandardScaler\n",
    "sc = StandardScaler()  \n",
    "X_train = sc.fit_transform(X_train)  #standardizes the data to improve the training of the ANN\n",
    "X_test = sc.fit_transform(X_test)\n"
   ]
  },
  {
   "cell_type": "code",
   "execution_count": 46,
   "id": "b6b0b82e",
   "metadata": {},
   "outputs": [],
   "source": [
    "ann = tf.keras.models.Sequential()  #creates the variable that represents the ANN"
   ]
  },
  {
   "cell_type": "code",
   "execution_count": 47,
   "id": "315a5876",
   "metadata": {},
   "outputs": [],
   "source": [
    "ann.add(tf.keras.layers.Dense(units= 6, activation= 'relu')) #adding the first hidden layer with the rectifier activation func."
   ]
  },
  {
   "cell_type": "code",
   "execution_count": 48,
   "id": "6463b2a1",
   "metadata": {},
   "outputs": [],
   "source": [
    "ann.add(tf.keras.layers.Dense(units= 6, activation= 'relu')) #adding the second hidden layer with the rectifier activation func."
   ]
  },
  {
   "cell_type": "code",
   "execution_count": 49,
   "id": "79784dd6",
   "metadata": {},
   "outputs": [],
   "source": [
    "ann.add(tf.keras.layers.Dense(units= 1, activation= 'sigmoid')) #adding the output layer with the sigmoid activation func.\n",
    "                                                                #to get the probabilites that the binary function is equal to 1"
   ]
  },
  {
   "cell_type": "code",
   "execution_count": 50,
   "id": "d9b5f22c",
   "metadata": {},
   "outputs": [],
   "source": [
    "ann.compile(optimizer= 'adam', loss= 'binary_crossentropy', metrics= ['accuracy'])"
   ]
  },
  {
   "cell_type": "code",
   "execution_count": 51,
   "id": "4dc3cb02",
   "metadata": {},
   "outputs": [
    {
     "name": "stdout",
     "output_type": "stream",
     "text": [
      "Epoch 1/100\n",
      "250/250 [==============================] - 1s 647us/step - loss: 0.5383 - accuracy: 0.7810\n",
      "Epoch 2/100\n",
      "250/250 [==============================] - 0s 647us/step - loss: 0.4630 - accuracy: 0.7984\n",
      "Epoch 3/100\n",
      "250/250 [==============================] - 0s 611us/step - loss: 0.4421 - accuracy: 0.7983\n",
      "Epoch 4/100\n",
      "250/250 [==============================] - 0s 675us/step - loss: 0.4303 - accuracy: 0.8085\n",
      "Epoch 5/100\n",
      "250/250 [==============================] - 0s 623us/step - loss: 0.4223 - accuracy: 0.8166\n",
      "Epoch 6/100\n",
      "250/250 [==============================] - 0s 607us/step - loss: 0.4160 - accuracy: 0.8181\n",
      "Epoch 7/100\n",
      "250/250 [==============================] - 0s 607us/step - loss: 0.4096 - accuracy: 0.8248\n",
      "Epoch 8/100\n",
      "250/250 [==============================] - 0s 639us/step - loss: 0.4029 - accuracy: 0.8299\n",
      "Epoch 9/100\n",
      "250/250 [==============================] - 0s 595us/step - loss: 0.3951 - accuracy: 0.8338\n",
      "Epoch 10/100\n",
      "250/250 [==============================] - 0s 580us/step - loss: 0.3857 - accuracy: 0.8382\n",
      "Epoch 11/100\n",
      "250/250 [==============================] - 0s 578us/step - loss: 0.3748 - accuracy: 0.8432\n",
      "Epoch 12/100\n",
      "250/250 [==============================] - 0s 562us/step - loss: 0.3652 - accuracy: 0.8499\n",
      "Epoch 13/100\n",
      "250/250 [==============================] - 0s 570us/step - loss: 0.3578 - accuracy: 0.8539\n",
      "Epoch 14/100\n",
      "250/250 [==============================] - 0s 578us/step - loss: 0.3537 - accuracy: 0.8556\n",
      "Epoch 15/100\n",
      "250/250 [==============================] - 0s 582us/step - loss: 0.3498 - accuracy: 0.8577\n",
      "Epoch 16/100\n",
      "250/250 [==============================] - 0s 599us/step - loss: 0.3476 - accuracy: 0.8558\n",
      "Epoch 17/100\n",
      "250/250 [==============================] - 0s 586us/step - loss: 0.3455 - accuracy: 0.8590\n",
      "Epoch 18/100\n",
      "250/250 [==============================] - 0s 595us/step - loss: 0.3441 - accuracy: 0.8579\n",
      "Epoch 19/100\n",
      "250/250 [==============================] - 0s 578us/step - loss: 0.3425 - accuracy: 0.8590\n",
      "Epoch 20/100\n",
      "250/250 [==============================] - 0s 586us/step - loss: 0.3419 - accuracy: 0.8572\n",
      "Epoch 21/100\n",
      "250/250 [==============================] - 0s 603us/step - loss: 0.3408 - accuracy: 0.8584\n",
      "Epoch 22/100\n",
      "250/250 [==============================] - 0s 578us/step - loss: 0.3403 - accuracy: 0.8581\n",
      "Epoch 23/100\n",
      "250/250 [==============================] - 0s 574us/step - loss: 0.3396 - accuracy: 0.8596\n",
      "Epoch 24/100\n",
      "250/250 [==============================] - 0s 578us/step - loss: 0.3386 - accuracy: 0.8595\n",
      "Epoch 25/100\n",
      "250/250 [==============================] - 0s 566us/step - loss: 0.3381 - accuracy: 0.8609\n",
      "Epoch 26/100\n",
      "250/250 [==============================] - 0s 570us/step - loss: 0.3377 - accuracy: 0.8595\n",
      "Epoch 27/100\n",
      "250/250 [==============================] - 0s 578us/step - loss: 0.3375 - accuracy: 0.8612\n",
      "Epoch 28/100\n",
      "250/250 [==============================] - 0s 574us/step - loss: 0.3371 - accuracy: 0.8610\n",
      "Epoch 29/100\n",
      "250/250 [==============================] - 0s 562us/step - loss: 0.3368 - accuracy: 0.8606\n",
      "Epoch 30/100\n",
      "250/250 [==============================] - 0s 566us/step - loss: 0.3363 - accuracy: 0.8621\n",
      "Epoch 31/100\n",
      "250/250 [==============================] - 0s 566us/step - loss: 0.3362 - accuracy: 0.8627\n",
      "Epoch 32/100\n",
      "250/250 [==============================] - 0s 558us/step - loss: 0.3358 - accuracy: 0.8614\n",
      "Epoch 33/100\n",
      "250/250 [==============================] - 0s 568us/step - loss: 0.3350 - accuracy: 0.8640\n",
      "Epoch 34/100\n",
      "250/250 [==============================] - 0s 570us/step - loss: 0.3353 - accuracy: 0.8614\n",
      "Epoch 35/100\n",
      "250/250 [==============================] - 0s 562us/step - loss: 0.3353 - accuracy: 0.8616\n",
      "Epoch 36/100\n",
      "250/250 [==============================] - 0s 566us/step - loss: 0.3348 - accuracy: 0.8611\n",
      "Epoch 37/100\n",
      "250/250 [==============================] - 0s 562us/step - loss: 0.3345 - accuracy: 0.8626\n",
      "Epoch 38/100\n",
      "250/250 [==============================] - 0s 574us/step - loss: 0.3344 - accuracy: 0.8621\n",
      "Epoch 39/100\n",
      "250/250 [==============================] - 0s 570us/step - loss: 0.3340 - accuracy: 0.8631\n",
      "Epoch 40/100\n",
      "250/250 [==============================] - 0s 562us/step - loss: 0.3338 - accuracy: 0.8624\n",
      "Epoch 41/100\n",
      "250/250 [==============================] - 0s 558us/step - loss: 0.3338 - accuracy: 0.8618\n",
      "Epoch 42/100\n",
      "250/250 [==============================] - 0s 562us/step - loss: 0.3334 - accuracy: 0.8634\n",
      "Epoch 43/100\n",
      "250/250 [==============================] - 0s 558us/step - loss: 0.3334 - accuracy: 0.8634\n",
      "Epoch 44/100\n",
      "250/250 [==============================] - 0s 562us/step - loss: 0.3330 - accuracy: 0.8637\n",
      "Epoch 45/100\n",
      "250/250 [==============================] - 0s 570us/step - loss: 0.3326 - accuracy: 0.8648\n",
      "Epoch 46/100\n",
      "250/250 [==============================] - 0s 593us/step - loss: 0.3324 - accuracy: 0.8641\n",
      "Epoch 47/100\n",
      "250/250 [==============================] - 0s 570us/step - loss: 0.3327 - accuracy: 0.8631\n",
      "Epoch 48/100\n",
      "250/250 [==============================] - 0s 566us/step - loss: 0.3319 - accuracy: 0.8650\n",
      "Epoch 49/100\n",
      "250/250 [==============================] - 0s 570us/step - loss: 0.3319 - accuracy: 0.8624\n",
      "Epoch 50/100\n",
      "250/250 [==============================] - 0s 586us/step - loss: 0.3322 - accuracy: 0.8635\n",
      "Epoch 51/100\n",
      "250/250 [==============================] - 0s 562us/step - loss: 0.3319 - accuracy: 0.8633\n",
      "Epoch 52/100\n",
      "250/250 [==============================] - 0s 566us/step - loss: 0.3313 - accuracy: 0.8630\n",
      "Epoch 53/100\n",
      "250/250 [==============================] - 0s 566us/step - loss: 0.3314 - accuracy: 0.8627\n",
      "Epoch 54/100\n",
      "250/250 [==============================] - 0s 566us/step - loss: 0.3311 - accuracy: 0.8637\n",
      "Epoch 55/100\n",
      "250/250 [==============================] - 0s 562us/step - loss: 0.3312 - accuracy: 0.8634\n",
      "Epoch 56/100\n",
      "250/250 [==============================] - 0s 566us/step - loss: 0.3311 - accuracy: 0.8640\n",
      "Epoch 57/100\n",
      "250/250 [==============================] - 0s 562us/step - loss: 0.3308 - accuracy: 0.8640\n",
      "Epoch 58/100\n",
      "250/250 [==============================] - 0s 562us/step - loss: 0.3308 - accuracy: 0.8629\n",
      "Epoch 59/100\n",
      "250/250 [==============================] - 0s 570us/step - loss: 0.3303 - accuracy: 0.8645\n",
      "Epoch 60/100\n",
      "250/250 [==============================] - 0s 586us/step - loss: 0.3300 - accuracy: 0.8658\n",
      "Epoch 61/100\n",
      "250/250 [==============================] - 0s 603us/step - loss: 0.3302 - accuracy: 0.8631\n",
      "Epoch 62/100\n",
      "250/250 [==============================] - 0s 599us/step - loss: 0.3304 - accuracy: 0.8639\n",
      "Epoch 63/100\n",
      "250/250 [==============================] - 0s 586us/step - loss: 0.3298 - accuracy: 0.8648\n",
      "Epoch 64/100\n",
      "250/250 [==============================] - 0s 615us/step - loss: 0.3300 - accuracy: 0.8637\n",
      "Epoch 65/100\n",
      "250/250 [==============================] - 0s 603us/step - loss: 0.3296 - accuracy: 0.8656\n",
      "Epoch 66/100\n",
      "250/250 [==============================] - 0s 611us/step - loss: 0.3293 - accuracy: 0.8649\n",
      "Epoch 67/100\n",
      "250/250 [==============================] - 0s 578us/step - loss: 0.3297 - accuracy: 0.8649\n",
      "Epoch 68/100\n",
      "250/250 [==============================] - 0s 574us/step - loss: 0.3296 - accuracy: 0.8645\n",
      "Epoch 69/100\n",
      "250/250 [==============================] - 0s 582us/step - loss: 0.3294 - accuracy: 0.8645\n",
      "Epoch 70/100\n",
      "250/250 [==============================] - 0s 570us/step - loss: 0.3292 - accuracy: 0.8645\n",
      "Epoch 71/100\n",
      "250/250 [==============================] - 0s 570us/step - loss: 0.3294 - accuracy: 0.8656\n",
      "Epoch 72/100\n",
      "250/250 [==============================] - 0s 582us/step - loss: 0.3291 - accuracy: 0.8654\n",
      "Epoch 73/100\n",
      "250/250 [==============================] - 0s 578us/step - loss: 0.3292 - accuracy: 0.8649\n",
      "Epoch 74/100\n",
      "250/250 [==============================] - 0s 578us/step - loss: 0.3293 - accuracy: 0.8654\n",
      "Epoch 75/100\n",
      "250/250 [==============================] - 0s 582us/step - loss: 0.3294 - accuracy: 0.8634\n",
      "Epoch 76/100\n",
      "250/250 [==============================] - 0s 578us/step - loss: 0.3288 - accuracy: 0.8652\n",
      "Epoch 77/100\n",
      "250/250 [==============================] - 0s 591us/step - loss: 0.3289 - accuracy: 0.8649\n",
      "Epoch 78/100\n",
      "250/250 [==============================] - 0s 582us/step - loss: 0.3291 - accuracy: 0.8637\n",
      "Epoch 79/100\n"
     ]
    },
    {
     "name": "stdout",
     "output_type": "stream",
     "text": [
      "250/250 [==============================] - 0s 562us/step - loss: 0.3284 - accuracy: 0.8660\n",
      "Epoch 80/100\n",
      "250/250 [==============================] - 0s 562us/step - loss: 0.3285 - accuracy: 0.8648\n",
      "Epoch 81/100\n",
      "250/250 [==============================] - 0s 576us/step - loss: 0.3284 - accuracy: 0.8651\n",
      "Epoch 82/100\n",
      "250/250 [==============================] - 0s 566us/step - loss: 0.3283 - accuracy: 0.8655\n",
      "Epoch 83/100\n",
      "250/250 [==============================] - 0s 558us/step - loss: 0.3284 - accuracy: 0.8649\n",
      "Epoch 84/100\n",
      "250/250 [==============================] - 0s 570us/step - loss: 0.3282 - accuracy: 0.8656\n",
      "Epoch 85/100\n",
      "250/250 [==============================] - 0s 566us/step - loss: 0.3280 - accuracy: 0.8640\n",
      "Epoch 86/100\n",
      "250/250 [==============================] - 0s 558us/step - loss: 0.3282 - accuracy: 0.8659\n",
      "Epoch 87/100\n",
      "250/250 [==============================] - 0s 566us/step - loss: 0.3282 - accuracy: 0.8641\n",
      "Epoch 88/100\n",
      "250/250 [==============================] - 0s 578us/step - loss: 0.3279 - accuracy: 0.8649\n",
      "Epoch 89/100\n",
      "250/250 [==============================] - 0s 570us/step - loss: 0.3276 - accuracy: 0.8661\n",
      "Epoch 90/100\n",
      "250/250 [==============================] - 0s 574us/step - loss: 0.3275 - accuracy: 0.8637\n",
      "Epoch 91/100\n",
      "250/250 [==============================] - 0s 578us/step - loss: 0.3273 - accuracy: 0.8656\n",
      "Epoch 92/100\n",
      "250/250 [==============================] - 0s 570us/step - loss: 0.3275 - accuracy: 0.8661\n",
      "Epoch 93/100\n",
      "250/250 [==============================] - 0s 570us/step - loss: 0.3274 - accuracy: 0.8645\n",
      "Epoch 94/100\n",
      "250/250 [==============================] - 0s 562us/step - loss: 0.3274 - accuracy: 0.8650\n",
      "Epoch 95/100\n",
      "250/250 [==============================] - 0s 582us/step - loss: 0.3271 - accuracy: 0.8664\n",
      "Epoch 96/100\n",
      "250/250 [==============================] - 0s 566us/step - loss: 0.3276 - accuracy: 0.8660\n",
      "Epoch 97/100\n",
      "250/250 [==============================] - 0s 566us/step - loss: 0.3275 - accuracy: 0.8652\n",
      "Epoch 98/100\n",
      "250/250 [==============================] - 0s 566us/step - loss: 0.3274 - accuracy: 0.8654\n",
      "Epoch 99/100\n",
      "250/250 [==============================] - 0s 566us/step - loss: 0.3274 - accuracy: 0.8655\n",
      "Epoch 100/100\n",
      "250/250 [==============================] - 0s 578us/step - loss: 0.3272 - accuracy: 0.8654\n"
     ]
    },
    {
     "data": {
      "text/plain": [
       "<keras.callbacks.History at 0x2a4a7f97e50>"
      ]
     },
     "execution_count": 51,
     "metadata": {},
     "output_type": "execute_result"
    }
   ],
   "source": [
    "ann.fit(X_train, y_train, batch_size= 32, epochs= 100)  #training the model"
   ]
  },
  {
   "cell_type": "code",
   "execution_count": null,
   "id": "56c1bd4d",
   "metadata": {},
   "outputs": [],
   "source": []
  },
  {
   "cell_type": "code",
   "execution_count": 52,
   "id": "0365ccd0",
   "metadata": {},
   "outputs": [
    {
     "name": "stdout",
     "output_type": "stream",
     "text": [
      "63/63 [==============================] - 0s 468us/step\n",
      "[[0 0]\n",
      " [0 0]\n",
      " [0 0]\n",
      " ...\n",
      " [0 0]\n",
      " [0 0]\n",
      " [0 0]]\n"
     ]
    }
   ],
   "source": [
    "y_pred = ann.predict(X_test)     #Using the test data set \n",
    "y_pred = (y_pred > 0.5)\n",
    "print(np.concatenate((y_pred.reshape(len(y_pred),1), y_test.reshape(len(y_test),1)),1))"
   ]
  },
  {
   "cell_type": "code",
   "execution_count": 53,
   "id": "58bae55b",
   "metadata": {},
   "outputs": [
    {
     "name": "stdout",
     "output_type": "stream",
     "text": [
      "[[1510   66]\n",
      " [ 201  223]]\n"
     ]
    },
    {
     "data": {
      "text/plain": [
       "0.8665"
      ]
     },
     "execution_count": 53,
     "metadata": {},
     "output_type": "execute_result"
    }
   ],
   "source": [
    "from sklearn.metrics import confusion_matrix, accuracy_score\n",
    "cm = confusion_matrix(y_test, y_pred)  #makes a confusion matrix of the predicted and actual values \n",
    "print(cm) \n",
    "accuracy_score(y_test, y_pred)"
   ]
  },
  {
   "cell_type": "code",
   "execution_count": 57,
   "id": "eee42ed8",
   "metadata": {},
   "outputs": [
    {
     "data": {
      "image/png": "[encoded data removed]",
      "text/plain": [
       "<Figure size 640x480 with 2 Axes>"
      ]
     },
     "metadata": {},
     "output_type": "display_data"
    }
   ],
   "source": [
    "from sklearn.metrics import confusion_matrix, ConfusionMatrixDisplay\n",
    "disp = ConfusionMatrixDisplay(confusion_matrix=cm)  #makes a plot of the confusion matrix\n",
    "disp.plot()\n",
    "plt.show()"
   ]
  },
  {
   "cell_type": "code",
   "execution_count": 54,
   "id": "6fa86a1c",
   "metadata": {},
   "outputs": [
    {
     "name": "stdout",
     "output_type": "stream",
     "text": [
      "1/1 [==============================] - 0s 12ms/step\n",
      "[[False]]\n"
     ]
    }
   ],
   "source": [
    "print(ann.predict(sc.transform([[1, 0, 0, 600, 1, 40, 3, 60000, 2, 1, 1, 50000]])) > 0.5) #test of a random prediction"
   ]
  },
  {
   "cell_type": "code",
   "execution_count": null,
   "id": "a3efd741",
   "metadata": {},
   "outputs": [],
   "source": []
  }
 ],
 "metadata": {
  "kernelspec": {
   "display_name": "Python 3 (ipykernel)",
   "language": "python",
   "name": "python3"
  },
  "language_info": {
   "codemirror_mode": {
    "name": "ipython",
    "version": 3
   },
   "file_extension": ".py",
   "mimetype": "text/x-python",
   "name": "python",
   "nbconvert_exporter": "python",
   "pygments_lexer": "ipython3",
   "version": "3.9.13"
  }
 },
 "nbformat": 4,
 "nbformat_minor": 5
}
